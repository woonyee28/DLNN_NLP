from datasets import load_dataset

crowd_dataset = load_dataset("csv", data_files="./dataset/text_emotion.csv")
crowd_dataset = crowd_dataset.rename_column('content', 'text')

crowd_vocab = tokenize(crowd_dataset['train'], save=True)